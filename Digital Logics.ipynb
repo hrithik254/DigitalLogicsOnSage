{
 "cells": [
  {
   "cell_type": "code",
   "execution_count": 1,
   "metadata": {},
   "outputs": [],
   "source": [
    "from sage.rings.integer import Integer\n",
    "# int is different than Integer class\n",
    "#"
   ]
  },
  {
   "cell_type": "code",
   "execution_count": 8,
   "metadata": {},
   "outputs": [],
   "source": [
    "def tobase(number,base,pad_to=0):\n",
    "    \n",
    "    \"\"\"docstring:\n",
    "        converts a decimal nmber to the desired base. function takes argument as \n",
    "        number as an integer and base as an integer.maximum base is 34. the function \n",
    "        returns a string. pad_to - the minimal length of the returned list, sufficient number \n",
    "        of zeros are added to make the list minimum that length (default: 0) \"\"\"\n",
    "    \n",
    "    alphabets = (0,1,2,3,4,5,6,7,8,9,'A', 'B', 'C', 'D', 'E', 'F', 'G', 'H', 'I', 'J', 'K', 'L', 'M', 'N', 'O', 'P', \n",
    "                 'Q', 'R', 'S', 'T', 'U', 'V', 'W', 'X', 'Y', 'Z')\n",
    "    if base <= 0:\n",
    "        return \"Invalid Base\"\n",
    "    else:\n",
    "        literals_base = alphabets[:base]\n",
    "    little_endian = number.digits(base,literals_base,padto = pad_to) #the digits method is defined for Integer class \n",
    "                                                             # and not the int class, Integer class is a child class of int\n",
    "    return_value = ''\n",
    "    for i in little_endian[::-1]:\n",
    "        return_value += str(i)\n",
    "    return return_value"
   ]
  },
  {
   "cell_type": "code",
   "execution_count": 9,
   "metadata": {},
   "outputs": [
    {
     "data": {
      "text/plain": [
       "'2BK3H1'"
      ]
     },
     "execution_count": 9,
     "metadata": {},
     "output_type": "execute_result"
    }
   ],
   "source": [
    "tobase(10494394,21)"
   ]
  },
  {
   "cell_type": "code",
   "execution_count": 10,
   "metadata": {},
   "outputs": [],
   "source": [
    "def todecimal(number,base):\n",
    "    \n",
    "    \"\"\"converts number of specified base to decimal.function takes argument as number \n",
    "        as a string and base as an integer.maximum base is 34. the function returns a \n",
    "        integer.\"\"\"\n",
    "    \n",
    "    alphabets = 'abcdefghijklmnopqrstuvwxyz'\n",
    "    alphabets = ('0','1','2','3','4','5','6','7','8','9','A', 'B', 'C', 'D', 'E', 'F', 'G', 'H', 'I', 'J', 'K', 'L', 'M', \n",
    "                 'N', 'O', 'P', 'Q', 'R', 'S', 'T', 'U', 'V', 'W', 'X', 'Y', 'Z')\n",
    "    number_digits = [i if i not in alphabets else i.upper() for i in str(number)]\n",
    "    return_value = 0\n",
    "    t = 0\n",
    "    for i in number_digits[::-1]:\n",
    "        return_value += (base^t)*alphabets.index(i)\n",
    "        t += 1\n",
    "    return return_value"
   ]
  },
  {
   "cell_type": "code",
   "execution_count": 11,
   "metadata": {},
   "outputs": [
    {
     "data": {
      "text/plain": [
       "10494394"
      ]
     },
     "execution_count": 11,
     "metadata": {},
     "output_type": "execute_result"
    }
   ],
   "source": [
    "todecimal('2BK3H1',21)"
   ]
  },
  {
   "cell_type": "code",
   "execution_count": 12,
   "metadata": {},
   "outputs": [],
   "source": [
    "def toBCD(number):\n",
    "    \n",
    "    \"\"\"converts decimal number (entered as interger data type) \n",
    "        into a BCD expression as a string\"\"\"\n",
    "    \n",
    "    number = str(number)\n",
    "    number = [Integer(i) for i in number]\n",
    "    return_string =''\n",
    "    for i in number:\n",
    "        return_string += str(tobase(Integer(i),2,4)) + \" \"\n",
    "    return return_string"
   ]
  },
  {
   "cell_type": "code",
   "execution_count": 13,
   "metadata": {},
   "outputs": [
    {
     "data": {
      "text/plain": [
       "'1000 0100 0110 1000 0100 0100 0101 0001 '"
      ]
     },
     "execution_count": 13,
     "metadata": {},
     "output_type": "execute_result"
    }
   ],
   "source": [
    "toBCD(Integer(84684451))"
   ]
  },
  {
   "cell_type": "code",
   "execution_count": 23,
   "metadata": {},
   "outputs": [],
   "source": [
    "def sage_boolexp(string):\n",
    "    \n",
    "    \"\"\"this function converts boolean expresssion written \n",
    "        using *, +, ' representing AND, OR, NOT \n",
    "        operations to sage interpretable expression\"\"\"\n",
    "    \n",
    "    \n",
    "    literal_list0 = [\"&\" if i == \"*\" else i for i in string]\n",
    "    literal_list1 = [\"|\" if i == \"+\" else i for i in literal_list0]\n",
    "    for i in range(len(literal_list1)):\n",
    "        if literal_list1[i] == \"'\":\n",
    "            del literal_list1[i]\n",
    "            if literal_list1[i-1] == \")\":\n",
    "                j = i-1\n",
    "                while literal_list1[j] != \"(\":\n",
    "                    j += -1\n",
    "                literal_list1.insert(j,'~')\n",
    "                i += 1\n",
    "            else:\n",
    "                literal_list1.insert(i-1,\"~\")\n",
    "    return_string = ''\n",
    "    for literal in literal_list1:\n",
    "        return_string += literal\n",
    "    return return_string\n",
    "        \n",
    "    "
   ]
  },
  {
   "cell_type": "code",
   "execution_count": 13,
   "metadata": {},
   "outputs": [],
   "source": [
    "def sage_boolexp2(string):\n",
    "    return_string=[]\n",
    "    string=string.replace(\" \", \"\")\n",
    "    string=string+\"\\0\"\n",
    "    print(string)\n",
    "    for i in range(0,len(string)-2):\n",
    "        if(string[i].isalpha() and string[i+1].isalpha() and string[i+2]==\"'\"):\n",
    "            return_string.append(string[i])\n",
    "            return_string.append(\"&\")\n",
    "            return_string.append(\"~\")\n",
    "            return_string.append(string[i+1])\n",
    "        elif (string[i].isalpha() and string[i+1]==\"'\" and string[i+2].isalpha() and string[i+3]==\"'\"):\n",
    "            return_string.append(\"~\")\n",
    "            return_string.append(string[i])\n",
    "            return_string.append(\"&\")\n",
    "            return_string.append(\"~\")\n",
    "            return_string.append(string[i+2])\n",
    "        elif (string[i].isalpha() and string[i+1]==\"'\" and string[i+2].isalpha()):\n",
    "            return_string.append(\"~\")\n",
    "            return_string.append(string[i])\n",
    "            return_string.append(\"&\")\n",
    "            return_string.append(string[i+2])\n",
    "        elif(string[i].isalpha() and string[i+1].isalpha()):\n",
    "            return_string.append(string[i])\n",
    "            return_string.append(\"&\")\n",
    "            return_string.append(string[i+1])\n",
    "        elif(string[i].isalpha() and string[i+1]==\"+\"):\n",
    "            return_string.append(\"|\")\n",
    "        elif(string[i].isalpha() and string[i+1]==\"'\" and string[i+2]==\"+\"):\n",
    "            return_string.append(\"|\")\n",
    "    print(\"\".join(return_string))\n",
    "            \n",
    "    "
   ]
  },
  {
   "cell_type": "code",
   "execution_count": 70,
   "metadata": {},
   "outputs": [
    {
     "data": {
      "text/plain": [
       "'x& y|x& ~y|x&y'"
      ]
     },
     "execution_count": 70,
     "metadata": {},
     "output_type": "execute_result"
    }
   ],
   "source": [
    "sage_boolexp(\"x* y+x* y'+x*y\")"
   ]
  },
  {
   "cell_type": "code",
   "execution_count": 15,
   "metadata": {},
   "outputs": [
    {
     "name": "stdout",
     "output_type": "stream",
     "text": [
      "xy+xy'+x'y'\u0000\n",
      "x&y|x&~y|~x&~y\n"
     ]
    }
   ],
   "source": [
    "sage_boolexp2(\"x y+ xy '+ x'y'\")"
   ]
  },
  {
   "cell_type": "code",
   "execution_count": 15,
   "metadata": {},
   "outputs": [],
   "source": [
    "import sage.logic.propcalc as boolexp\n",
    "\n",
    "def get_values(truth_table):\n",
    "    \"\"\"excepts a boolean exression. returns a list of the values\"\"\"\n",
    "    return_list = []\n",
    "    r = boolexp.formula(sage_boolexp(\"x*z+z*y\"))\n",
    "    truth_table = r.truthtable().get_table_list() \n",
    "    for row in truth_table[1:]:\n",
    "        return_list.append(row[-1])\n",
    "    return return_list\n",
    "    "
   ]
  },
  {
   "cell_type": "code",
   "execution_count": 16,
   "metadata": {},
   "outputs": [
    {
     "data": {
      "text/plain": [
       "[False, False, False, True, False, False, True, True]"
      ]
     },
     "execution_count": 16,
     "metadata": {},
     "output_type": "execute_result"
    }
   ],
   "source": [
    "get_values(\"x'*y*z+x*z\") #Function values in a truth table"
   ]
  },
  {
   "cell_type": "code",
   "execution_count": 17,
   "metadata": {},
   "outputs": [
    {
     "data": {
      "text/plain": [
       "x      y      z      value\n",
       "False  False  False  False  \n",
       "False  False  True   False  \n",
       "False  True   False  False  \n",
       "False  True   True   True   \n",
       "True   False  False  False  \n",
       "True   False  True   True   \n",
       "True   True   False  False  \n",
       "True   True   True   True   \n"
      ]
     },
     "execution_count": 17,
     "metadata": {},
     "output_type": "execute_result"
    }
   ],
   "source": [
    "boolexp.formula(sage_boolexp(\"x'*y*z+x*z\")).truthtable()"
   ]
  },
  {
   "cell_type": "code",
   "execution_count": null,
   "metadata": {},
   "outputs": [],
   "source": []
  },
  {
   "cell_type": "markdown",
   "metadata": {},
   "source": [
    "### Chapter 1"
   ]
  },
  {
   "cell_type": "code",
   "execution_count": 8,
   "metadata": {},
   "outputs": [
    {
     "name": "stdout",
     "output_type": "stream",
     "text": [
      "Decimal Octal Hexadcimal \n",
      "50     62     32\n",
      "51     63     33\n",
      "52     64     34\n",
      "53     65     35\n",
      "54     66     36\n",
      "55     67     37\n",
      "56     70     38\n",
      "57     71     39\n",
      "58     72     3A\n",
      "59     73     3B\n",
      "60     74     3C\n",
      "61     75     3D\n",
      "62     76     3E\n",
      "63     77     3F\n",
      "64     100     40\n"
     ]
    }
   ],
   "source": [
    "#1.1\n",
    "print(\"Decimal Octal Hexadcimal \")\n",
    "for i in [50..64]:   #program does not work with range(50,64) since the digits attribute beongs to the instance of Integer which is a child class of integer \n",
    "    print(i,\"   \", tobase(i,8),\"   \",tobase(i,16))"
   ]
  },
  {
   "cell_type": "code",
   "execution_count": 57,
   "metadata": {},
   "outputs": [
    {
     "data": {
      "text/plain": [
       "10136527"
      ]
     },
     "execution_count": 57,
     "metadata": {},
     "output_type": "execute_result"
    }
   ],
   "source": [
    "tobase(94,25)\n",
    "todecimal(\"9aabcf\",16)"
   ]
  },
  {
   "cell_type": "code",
   "execution_count": 9,
   "metadata": {},
   "outputs": [
    {
     "name": "stdout",
     "output_type": "stream",
     "text": [
      "Decimal    Base-14\n",
      "11         B\n",
      "12         C\n",
      "13         D\n",
      "14         10\n",
      "15         11\n",
      "16         12\n",
      "17         13\n",
      "18         14\n",
      "19         15\n",
      "20         16\n",
      "21         17\n",
      "22         18\n",
      "23         19\n",
      "24         1A\n",
      "25         1B\n",
      "26         1C\n",
      "27         1D\n",
      "28         20\n",
      "29         21\n",
      "30         22\n"
     ]
    }
   ],
   "source": [
    "print('Decimal', \"  \", 'Base-14')\n",
    "for i in [11..30]:  \n",
    "    print(i,\"       \", tobase(i,14))"
   ]
  },
  {
   "cell_type": "markdown",
   "metadata": {},
   "source": [
    "### Chapter 2"
   ]
  },
  {
   "cell_type": "markdown",
   "metadata": {},
   "source": [
    "  Symbol | Meaning\n",
    "  ------ | --------\n",
    "    &    | AND\n",
    "   |     | OR\n",
    "    ~    | NOT\n",
    "    ^    | XOR \n",
    "    ->   | If...then\n",
    "    <->  | if and only if"
   ]
  },
  {
   "cell_type": "raw",
   "metadata": {},
   "source": [
    "In Boolean logic, a formula is in conjunctive normal form (CNF) or clausal normal form if it is a conjunction of one or more clauses, where a clause is a disjunction of literals; otherwise put, it is a product of sums or an AND of ORs\n"
   ]
  },
  {
   "cell_type": "code",
   "execution_count": 33,
   "metadata": {},
   "outputs": [
    {
     "data": {
      "text/plain": [
       "True"
      ]
     },
     "execution_count": 33,
     "metadata": {},
     "output_type": "execute_result"
    }
   ],
   "source": [
    "2.2\n",
    "import sage.logic.propcalc as boolexp\n",
    "q = boolexp.formula(\"x&y|x&~y|~x&y\")\n",
    "r = boolexp.formula(\"x|y\")\n",
    "q == r"
   ]
  },
  {
   "cell_type": "code",
   "execution_count": 27,
   "metadata": {},
   "outputs": [
    {
     "data": {
      "text/plain": [
       "x      y      value\n",
       "False  False  False  \n",
       "False  True   True   \n",
       "True   False  True   \n",
       "True   True   True   \n"
      ]
     },
     "execution_count": 27,
     "metadata": {},
     "output_type": "execute_result"
    }
   ],
   "source": [
    "# 2.2 b\n",
    "q = boolexp.formula(sage_boolexp((x+y)*(x'+y)))\n",
    "r = boolexp.formula(\"x|y\")\n",
    "q == r"
   ]
  },
  {
   "cell_type": "code",
   "execution_count": 49,
   "metadata": {},
   "outputs": [
    {
     "data": {
      "text/plain": [
       "True"
      ]
     },
     "execution_count": 49,
     "metadata": {},
     "output_type": "execute_result"
    }
   ],
   "source": [
    "# 2.2 c\n",
    "q = boolexp.formula(sage_boolexp(\"x*y*(x'+y')'\"))\n",
    "r = boolexp.formula(\"x&y\")\n",
    "q == r"
   ]
  },
  {
   "cell_type": "code",
   "execution_count": 87,
   "metadata": {},
   "outputs": [
    {
     "data": {
      "text/plain": [
       "True"
      ]
     },
     "execution_count": 87,
     "metadata": {},
     "output_type": "execute_result"
    }
   ],
   "source": [
    "# 2.3 a\n",
    "q = boolexp.formula(sage_boolexp(\"x*y*z + x'*y+x*y*z'\"))\n",
    "r = boolexp.formula(\"y\")\n",
    "q == r"
   ]
  },
  {
   "cell_type": "code",
   "execution_count": 134,
   "metadata": {},
   "outputs": [
    {
     "data": {
      "text/plain": [
       "True"
      ]
     },
     "execution_count": 134,
     "metadata": {},
     "output_type": "execute_result"
    }
   ],
   "source": [
    "# 2.3 b\n",
    "q = boolexp.formula(sage_boolexp(\"x'*y*z+x*z\"))\n",
    "r = boolexp.formula(sage_boolexp(\"x*z+z*y\"))\n",
    "q == r"
   ]
  },
  {
   "cell_type": "code",
   "execution_count": 17,
   "metadata": {},
   "outputs": [
    {
     "data": {
      "text/plain": [
       "False"
      ]
     },
     "execution_count": 17,
     "metadata": {},
     "output_type": "execute_result"
    }
   ],
   "source": [
    "# 2.3 c\n",
    "import sage.logic.propcalc as boolexp\n",
    "q = boolexp.formula(sage_boolexp(\"x*z'+z*x'\"))\n",
    "r = boolexp.formula(sage_boolexp(\"x*x'\"))\n",
    "q == r"
   ]
  },
  {
   "cell_type": "code",
   "execution_count": 16,
   "metadata": {},
   "outputs": [
    {
     "data": {
      "text/plain": [
       "False"
      ]
     },
     "execution_count": 16,
     "metadata": {},
     "output_type": "execute_result"
    }
   ],
   "source": [
    "#2.29\n",
    "import sage.logic.propcalc as boolexp\n",
    "q = boolexp.formula(sage_boolexp(\"a'*b+a*c+b*c\"))\n",
    "r = boolexp.formula(sage_boolexp(\"(a+b)*(a'*c)*(b+c)\"))\n",
    "q == r"
   ]
  },
  {
   "cell_type": "markdown",
   "metadata": {},
   "source": [
    "### Chapter 3"
   ]
  },
  {
   "cell_type": "code",
   "execution_count": 3,
   "metadata": {},
   "outputs": [
    {
     "data": {
      "text/plain": [
       "True"
      ]
     },
     "execution_count": 3,
     "metadata": {},
     "output_type": "execute_result"
    }
   ],
   "source": [
    "# example 3.5 \n",
    "import sage.logic.propcalc as boolexp\n",
    "q = boolexp.formula(sage_boolexp(\"y'+w'*z'+x*z'\"))\n",
    "r = boolexp.formula(sage_boolexp(\"y'+x*y*z'+w'*x'*z'\")) # minimization done in another way which results in more literals\n",
    "q == r"
   ]
  },
  {
   "cell_type": "code",
   "execution_count": 7,
   "metadata": {},
   "outputs": [
    {
     "data": {
      "text/plain": [
       "False"
      ]
     },
     "execution_count": 7,
     "metadata": {},
     "output_type": "execute_result"
    }
   ],
   "source": [
    "# practise excercise 3.5\n",
    "import sage.logic.propcalc as boolexp\n",
    "q = boolexp.formula(sage_boolexp(\"x'*y'+x'*z+w\"))\n",
    "r = boolexp.formula(sage_boolexp(\"x'*y'+w'*x'*y*z\"))\n",
    "q == r\n",
    "\n",
    "# i was doing a error"
   ]
  },
  {
   "cell_type": "code",
   "execution_count": null,
   "metadata": {},
   "outputs": [],
   "source": []
  }
 ],
 "metadata": {
  "kernelspec": {
   "display_name": "SageMath 9.0",
   "language": "sage",
   "name": "sagemath"
  },
  "language_info": {
   "codemirror_mode": {
    "name": "ipython",
    "version": 3
   },
   "file_extension": ".py",
   "mimetype": "text/x-python",
   "name": "python",
   "nbconvert_exporter": "python",
   "pygments_lexer": "ipython3",
   "version": "3.7.3"
  }
 },
 "nbformat": 4,
 "nbformat_minor": 2
}
